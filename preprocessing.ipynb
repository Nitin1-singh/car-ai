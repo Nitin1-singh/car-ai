{
 "cells": [
  {
   "cell_type": "code",
   "execution_count": 45,
   "metadata": {},
   "outputs": [
    {
     "data": {
      "text/plain": [
       "(892, 6)"
      ]
     },
     "execution_count": 45,
     "metadata": {},
     "output_type": "execute_result"
    }
   ],
   "source": [
    "import pandas as pd\n",
    "data = pd.read_csv(\"./car.csv\")\n",
    "data.shape"
   ]
  },
  {
   "cell_type": "code",
   "execution_count": 46,
   "metadata": {},
   "outputs": [
    {
     "name": "stdout",
     "output_type": "stream",
     "text": [
      "<class 'pandas.core.frame.DataFrame'>\n",
      "RangeIndex: 892 entries, 0 to 891\n",
      "Data columns (total 6 columns):\n",
      " #   Column      Non-Null Count  Dtype \n",
      "---  ------      --------------  ----- \n",
      " 0   name        892 non-null    object\n",
      " 1   company     892 non-null    object\n",
      " 2   year        892 non-null    object\n",
      " 3   Price       892 non-null    object\n",
      " 4   kms_driven  840 non-null    object\n",
      " 5   fuel_type   837 non-null    object\n",
      "dtypes: object(6)\n",
      "memory usage: 41.9+ KB\n"
     ]
    }
   ],
   "source": [
    "data.info()"
   ]
  },
  {
   "cell_type": "markdown",
   "metadata": {},
   "source": [
    "# Year"
   ]
  },
  {
   "cell_type": "code",
   "execution_count": 47,
   "metadata": {},
   "outputs": [],
   "source": [
    "data = data[data[\"year\"].str.isnumeric()]\n",
    "data[\"year\"] =  data[\"year\"].astype(\"Int16\")"
   ]
  },
  {
   "cell_type": "code",
   "execution_count": 48,
   "metadata": {},
   "outputs": [
    {
     "data": {
      "text/plain": [
       "(842, 6)"
      ]
     },
     "execution_count": 48,
     "metadata": {},
     "output_type": "execute_result"
    }
   ],
   "source": [
    "data.shape"
   ]
  },
  {
   "cell_type": "markdown",
   "metadata": {},
   "source": [
    "# Price"
   ]
  },
  {
   "cell_type": "code",
   "execution_count": 49,
   "metadata": {},
   "outputs": [],
   "source": [
    "data = data[data[\"Price\"]!=\"Ask For Price\"]"
   ]
  },
  {
   "cell_type": "code",
   "execution_count": 50,
   "metadata": {},
   "outputs": [
    {
     "data": {
      "text/plain": [
       "0       80000\n",
       "1      425000\n",
       "3      325000\n",
       "4      575000\n",
       "6      175000\n",
       "        ...  \n",
       "886    300000\n",
       "888    260000\n",
       "889    390000\n",
       "890    180000\n",
       "891    160000\n",
       "Name: Price, Length: 819, dtype: Int32"
      ]
     },
     "execution_count": 50,
     "metadata": {},
     "output_type": "execute_result"
    }
   ],
   "source": [
    "data[\"Price\"] = data[\"Price\"].apply(lambda x: x.replace(\",\",\"\") if \",\" in x else x)\n",
    "data[\"Price\"] = data[\"Price\"].astype(\"Int32\")\n",
    "data[\"Price\"]"
   ]
  },
  {
   "cell_type": "markdown",
   "metadata": {},
   "source": [
    "# KMS driven"
   ]
  },
  {
   "cell_type": "code",
   "execution_count": 51,
   "metadata": {},
   "outputs": [
    {
     "data": {
      "text/plain": [
       "array(['45,000 kms', '40 kms', '28,000 kms', '36,000 kms', '41,000 kms',\n",
       "       '25,000 kms', '24,530 kms', '60,000 kms', '30,000 kms',\n",
       "       '32,000 kms', '48,660 kms', '4,000 kms', '16,934 kms',\n",
       "       '43,000 kms', '35,550 kms', '39,522 kms', '39,000 kms',\n",
       "       '55,000 kms', '72,000 kms', '15,975 kms', '70,000 kms',\n",
       "       '23,452 kms', '35,522 kms', '48,508 kms', '15,487 kms',\n",
       "       '82,000 kms', '20,000 kms', '68,000 kms', '38,000 kms',\n",
       "       '27,000 kms', '33,000 kms', '46,000 kms', '16,000 kms',\n",
       "       '47,000 kms', '35,000 kms', '30,874 kms', '15,000 kms',\n",
       "       '29,685 kms', '1,30,000 kms', '19,000 kms', '54,000 kms',\n",
       "       '13,000 kms', '38,200 kms', '22,000 kms', '50,000 kms',\n",
       "       '13,500 kms', '3,600 kms', '45,863 kms', '60,500 kms',\n",
       "       '12,500 kms', '18,000 kms', '13,349 kms', '29,000 kms',\n",
       "       '44,000 kms', '42,000 kms', '14,000 kms', '49,000 kms',\n",
       "       '36,200 kms', '51,000 kms', '1,04,000 kms', '33,333 kms',\n",
       "       '33,600 kms', '5,600 kms', '7,500 kms', '26,000 kms', '24,330 kms',\n",
       "       '65,480 kms', '2,00,000 kms', '59,000 kms', '99,000 kms',\n",
       "       '2,800 kms', '21,000 kms', '11,000 kms', '66,000 kms', '3,000 kms',\n",
       "       '7,000 kms', '38,500 kms', '37,200 kms', '43,200 kms',\n",
       "       '24,800 kms', '45,872 kms', '40,000 kms', '11,400 kms',\n",
       "       '97,200 kms', '52,000 kms', '31,000 kms', '1,75,430 kms',\n",
       "       '37,000 kms', '65,000 kms', '3,350 kms', '75,000 kms',\n",
       "       '62,000 kms', '73,000 kms', '2,200 kms', '54,870 kms',\n",
       "       '34,580 kms', '97,000 kms', '60 kms', '80,200 kms', '3,200 kms',\n",
       "       '0,000 kms', '5,000 kms', '588 kms', '71,200 kms', '1,75,400 kms',\n",
       "       '9,300 kms', '56,758 kms', '10,000 kms', '56,450 kms',\n",
       "       '56,000 kms', '32,700 kms', '9,000 kms', '73 kms', '1,60,000 kms',\n",
       "       '58,559 kms', '57,000 kms', '1,70,000 kms', '80,000 kms',\n",
       "       '6,821 kms', '23,000 kms', '34,000 kms', '1,800 kms',\n",
       "       '4,00,000 kms', '48,000 kms', '90,000 kms', '12,000 kms',\n",
       "       '69,900 kms', '1,66,000 kms', '122 kms', '0 kms', '36,469 kms',\n",
       "       '7,800 kms', '24,695 kms', '15,141 kms', '59,910 kms',\n",
       "       '1,00,000 kms', '4,500 kms', '1,29,000 kms', '300 kms',\n",
       "       '1,31,000 kms', '1,11,111 kms', '59,466 kms', '25,500 kms',\n",
       "       '44,005 kms', '2,110 kms', '43,222 kms', '1,00,200 kms', '65 kms',\n",
       "       '1,40,000 kms', '1,03,553 kms', '58,000 kms', '1,20,000 kms',\n",
       "       '49,800 kms', '100 kms', '81,876 kms', '6,020 kms', '55,700 kms',\n",
       "       '18,500 kms', '53,000 kms', '35,500 kms', '22,134 kms',\n",
       "       '1,000 kms', '8,500 kms', '87,000 kms', '6,000 kms', '8,000 kms',\n",
       "       '55,800 kms', '56,400 kms', '72,160 kms', '11,500 kms',\n",
       "       '1,33,000 kms', '2,000 kms', '88,000 kms', '65,422 kms',\n",
       "       '1,17,000 kms', '1,50,000 kms', '10,750 kms', '6,800 kms',\n",
       "       '9,800 kms', '57,923 kms', '30,201 kms', '6,200 kms', '37,518 kms',\n",
       "       '24,652 kms', '383 kms', '95,000 kms', '3,528 kms', '52,500 kms',\n",
       "       '47,900 kms', '52,800 kms', '1,95,000 kms', '48,008 kms',\n",
       "       '48,247 kms', '9,400 kms', '64,000 kms', '2,137 kms', '10,544 kms',\n",
       "       '1,47,000 kms', '90,001 kms', '48,006 kms', '74,000 kms',\n",
       "       '85,000 kms', '29,500 kms', '39,700 kms', '67,000 kms',\n",
       "       '19,336 kms', '60,105 kms', '45,933 kms', '1,02,563 kms',\n",
       "       '28,600 kms', '41,800 kms', '1,16,000 kms', '42,590 kms',\n",
       "       '7,400 kms', '54,500 kms', '76,000 kms', '00 kms', '11,523 kms',\n",
       "       '38,600 kms', '95,500 kms', '37,458 kms', '85,960 kms',\n",
       "       '12,516 kms', '30,600 kms', '2,550 kms', '62,500 kms',\n",
       "       '69,000 kms', '28,400 kms', '68,485 kms', '3,500 kms',\n",
       "       '85,455 kms', '63,000 kms', '1,600 kms', '77,000 kms',\n",
       "       '26,500 kms', '2,875 kms', '13,900 kms', '1,500 kms', '2,450 kms',\n",
       "       '1,625 kms', '33,400 kms', '60,123 kms', '1,37,495 kms',\n",
       "       '91,200 kms', '1,46,000 kms', '1,00,800 kms', '2,100 kms',\n",
       "       '2,500 kms', '1,32,000 kms', 0], dtype=object)"
      ]
     },
     "execution_count": 51,
     "metadata": {},
     "output_type": "execute_result"
    }
   ],
   "source": [
    "data[\"kms_driven\"] = data[\"kms_driven\"].apply(lambda x: 0 if \"Petrol\" in x else x)\n",
    "data[\"kms_driven\"].unique()"
   ]
  },
  {
   "cell_type": "code",
   "execution_count": 65,
   "metadata": {},
   "outputs": [],
   "source": [
    "def kms_clean(obj):\n",
    "  if obj == 0:\n",
    "    return \"0\"\n",
    "  else:\n",
    "    return(obj.split(\"kms\")[0])\n",
    "data[\"kms_driven\"] = data[\"kms_driven\"].apply(kms_clean)\n",
    "data[\"kms_driven\"] = data[\"kms_driven\"].apply(lambda x: x.replace(\",\",\"\") if \",\" in x else x)\n",
    "data[\"kms_driven\"] = data[\"kms_driven\"].astype(\"Int32\")"
   ]
  },
  {
   "cell_type": "code",
   "execution_count": 77,
   "metadata": {},
   "outputs": [
    {
     "data": {
      "text/html": [
       "<div>\n",
       "<style scoped>\n",
       "    .dataframe tbody tr th:only-of-type {\n",
       "        vertical-align: middle;\n",
       "    }\n",
       "\n",
       "    .dataframe tbody tr th {\n",
       "        vertical-align: top;\n",
       "    }\n",
       "\n",
       "    .dataframe thead th {\n",
       "        text-align: right;\n",
       "    }\n",
       "</style>\n",
       "<table border=\"1\" class=\"dataframe\">\n",
       "  <thead>\n",
       "    <tr style=\"text-align: right;\">\n",
       "      <th></th>\n",
       "      <th>name</th>\n",
       "      <th>company</th>\n",
       "      <th>year</th>\n",
       "      <th>Price</th>\n",
       "      <th>kms_driven</th>\n",
       "      <th>fuel_type</th>\n",
       "    </tr>\n",
       "  </thead>\n",
       "  <tbody>\n",
       "    <tr>\n",
       "      <th>0</th>\n",
       "      <td>Hyundai Santro Xing XO eRLX Euro III</td>\n",
       "      <td>Hyundai</td>\n",
       "      <td>2007</td>\n",
       "      <td>80000</td>\n",
       "      <td>45000</td>\n",
       "      <td>Petrol</td>\n",
       "    </tr>\n",
       "    <tr>\n",
       "      <th>1</th>\n",
       "      <td>Mahindra Jeep CL550 MDI</td>\n",
       "      <td>Mahindra</td>\n",
       "      <td>2006</td>\n",
       "      <td>425000</td>\n",
       "      <td>40</td>\n",
       "      <td>Diesel</td>\n",
       "    </tr>\n",
       "    <tr>\n",
       "      <th>3</th>\n",
       "      <td>Hyundai Grand i10 Magna 1.2 Kappa VTVT</td>\n",
       "      <td>Hyundai</td>\n",
       "      <td>2014</td>\n",
       "      <td>325000</td>\n",
       "      <td>28000</td>\n",
       "      <td>Petrol</td>\n",
       "    </tr>\n",
       "    <tr>\n",
       "      <th>4</th>\n",
       "      <td>Ford EcoSport Titanium 1.5L TDCi</td>\n",
       "      <td>Ford</td>\n",
       "      <td>2014</td>\n",
       "      <td>575000</td>\n",
       "      <td>36000</td>\n",
       "      <td>Diesel</td>\n",
       "    </tr>\n",
       "    <tr>\n",
       "      <th>6</th>\n",
       "      <td>Ford Figo</td>\n",
       "      <td>Ford</td>\n",
       "      <td>2012</td>\n",
       "      <td>175000</td>\n",
       "      <td>41000</td>\n",
       "      <td>Diesel</td>\n",
       "    </tr>\n",
       "    <tr>\n",
       "      <th>...</th>\n",
       "      <td>...</td>\n",
       "      <td>...</td>\n",
       "      <td>...</td>\n",
       "      <td>...</td>\n",
       "      <td>...</td>\n",
       "      <td>...</td>\n",
       "    </tr>\n",
       "    <tr>\n",
       "      <th>883</th>\n",
       "      <td>Maruti Suzuki Ritz VXI ABS</td>\n",
       "      <td>Maruti</td>\n",
       "      <td>2011</td>\n",
       "      <td>270000</td>\n",
       "      <td>50000</td>\n",
       "      <td>Petrol</td>\n",
       "    </tr>\n",
       "    <tr>\n",
       "      <th>885</th>\n",
       "      <td>Tata Indica V2 DLE BS III</td>\n",
       "      <td>Tata</td>\n",
       "      <td>2009</td>\n",
       "      <td>110000</td>\n",
       "      <td>30000</td>\n",
       "      <td>Diesel</td>\n",
       "    </tr>\n",
       "    <tr>\n",
       "      <th>886</th>\n",
       "      <td>Toyota Corolla Altis</td>\n",
       "      <td>Toyota</td>\n",
       "      <td>2009</td>\n",
       "      <td>300000</td>\n",
       "      <td>132000</td>\n",
       "      <td>Petrol</td>\n",
       "    </tr>\n",
       "    <tr>\n",
       "      <th>888</th>\n",
       "      <td>Tata Zest XM Diesel</td>\n",
       "      <td>Tata</td>\n",
       "      <td>2018</td>\n",
       "      <td>260000</td>\n",
       "      <td>27000</td>\n",
       "      <td>Diesel</td>\n",
       "    </tr>\n",
       "    <tr>\n",
       "      <th>889</th>\n",
       "      <td>Mahindra Quanto C8</td>\n",
       "      <td>Mahindra</td>\n",
       "      <td>2013</td>\n",
       "      <td>390000</td>\n",
       "      <td>40000</td>\n",
       "      <td>Diesel</td>\n",
       "    </tr>\n",
       "  </tbody>\n",
       "</table>\n",
       "<p>816 rows × 6 columns</p>\n",
       "</div>"
      ],
      "text/plain": [
       "                                       name   company  year   Price  \\\n",
       "0      Hyundai Santro Xing XO eRLX Euro III   Hyundai  2007   80000   \n",
       "1                   Mahindra Jeep CL550 MDI  Mahindra  2006  425000   \n",
       "3    Hyundai Grand i10 Magna 1.2 Kappa VTVT   Hyundai  2014  325000   \n",
       "4          Ford EcoSport Titanium 1.5L TDCi      Ford  2014  575000   \n",
       "6                                 Ford Figo      Ford  2012  175000   \n",
       "..                                      ...       ...   ...     ...   \n",
       "883              Maruti Suzuki Ritz VXI ABS    Maruti  2011  270000   \n",
       "885               Tata Indica V2 DLE BS III      Tata  2009  110000   \n",
       "886                    Toyota Corolla Altis    Toyota  2009  300000   \n",
       "888                     Tata Zest XM Diesel      Tata  2018  260000   \n",
       "889                      Mahindra Quanto C8  Mahindra  2013  390000   \n",
       "\n",
       "     kms_driven fuel_type  \n",
       "0         45000    Petrol  \n",
       "1            40    Diesel  \n",
       "3         28000    Petrol  \n",
       "4         36000    Diesel  \n",
       "6         41000    Diesel  \n",
       "..          ...       ...  \n",
       "883       50000    Petrol  \n",
       "885       30000    Diesel  \n",
       "886      132000    Petrol  \n",
       "888       27000    Diesel  \n",
       "889       40000    Diesel  \n",
       "\n",
       "[816 rows x 6 columns]"
      ]
     },
     "execution_count": 77,
     "metadata": {},
     "output_type": "execute_result"
    }
   ],
   "source": [
    "data = data[~data[\"fuel_type\"].isna()]\n",
    "data"
   ]
  },
  {
   "cell_type": "markdown",
   "metadata": {},
   "source": [
    "# name"
   ]
  },
  {
   "cell_type": "code",
   "execution_count": 83,
   "metadata": {},
   "outputs": [
    {
     "name": "stderr",
     "output_type": "stream",
     "text": [
      "/tmp/ipykernel_4810/681598335.py:1: SettingWithCopyWarning: \n",
      "A value is trying to be set on a copy of a slice from a DataFrame.\n",
      "Try using .loc[row_indexer,col_indexer] = value instead\n",
      "\n",
      "See the caveats in the documentation: https://pandas.pydata.org/pandas-docs/stable/user_guide/indexing.html#returning-a-view-versus-a-copy\n",
      "  data[\"name\"] = data[\"name\"].str.split(\" \").str.slice(0,3).str.join(\" \")\n"
     ]
    }
   ],
   "source": [
    "data[\"name\"] = data[\"name\"].str.split(\" \").str.slice(0,3).str.join(\" \")"
   ]
  },
  {
   "cell_type": "code",
   "execution_count": 85,
   "metadata": {},
   "outputs": [
    {
     "data": {
      "text/plain": [
       "array(['Hyundai Santro Xing', 'Mahindra Jeep CL550', 'Hyundai Grand i10',\n",
       "       'Ford EcoSport Titanium', 'Ford Figo', 'Hyundai Eon',\n",
       "       'Ford EcoSport Ambiente', 'Maruti Suzuki Alto',\n",
       "       'Skoda Fabia Classic', 'Maruti Suzuki Stingray',\n",
       "       'Hyundai Elite i20', 'Mahindra Scorpio SLE', 'Audi A8', 'Audi Q7',\n",
       "       'Mahindra Scorpio S10', 'Hyundai i20 Sportz',\n",
       "       'Maruti Suzuki Vitara', 'Mahindra Bolero DI',\n",
       "       'Maruti Suzuki Swift', 'Maruti Suzuki Wagon', 'Toyota Innova 2.0',\n",
       "       'Renault Lodgy 85', 'Skoda Yeti Ambition', 'Maruti Suzuki Baleno',\n",
       "       'Renault Duster 110', 'Renault Duster 85', 'Honda City 1.5',\n",
       "       'Maruti Suzuki Dzire', 'Honda Amaze', 'Honda Amaze 1.5',\n",
       "       'Honda City', 'Datsun Redi GO', 'Maruti Suzuki SX4',\n",
       "       'Mitsubishi Pajero Sport', 'Honda City ZX', 'Tata Indigo eCS',\n",
       "       'Volkswagen Polo Highline', 'Chevrolet Spark LS',\n",
       "       'Renault Duster 110PS', 'Mini Cooper S', 'Skoda Fabia 1.2L',\n",
       "       'Renault Duster', 'Mahindra Scorpio S4', 'Mahindra Scorpio VLX',\n",
       "       'Mahindra Quanto C8', 'Ford EcoSport', 'Honda Brio',\n",
       "       'Volkswagen Vento Highline', 'Hyundai i20 Magna',\n",
       "       'Toyota Corolla Altis', 'Hyundai Verna Transform', 'BMW 3 Series',\n",
       "       'Maruti Suzuki A', 'Toyota Etios GD', 'Ford Figo Diesel',\n",
       "       'Chevrolet Beat LT', 'BMW 7 Series', 'Mahindra XUV500 W8',\n",
       "       'Hyundai i10 Magna', 'Hyundai Verna Fluidic',\n",
       "       'Maruti Suzuki Ertiga', 'Honda Amaze 1.2', 'Hyundai i20 Asta',\n",
       "       'Maruti Suzuki Eeco', 'Maruti Suzuki Esteem', 'Maruti Suzuki Ritz',\n",
       "       'Toyota Etios Liva', 'Chevrolet Spark', 'Nissan Micra XV',\n",
       "       'Chevrolet Beat', 'Ford EcoSport Trend', 'Tata Indica V2',\n",
       "       'Hindustan Motors Ambassador', 'Toyota Innova 2.5',\n",
       "       'Volkswagen Jetta Highline', 'Volkswagen Polo Comfortline',\n",
       "       'Volkswagen Polo', 'Mahindra Scorpio', 'Nissan Sunny',\n",
       "       'Renault Kwid', 'Chevrolet Spark LT', 'Fiat Punto Emotion',\n",
       "       'Hyundai i10 Sportz', 'Chevrolet Beat LS', 'Tata Indigo CS',\n",
       "       'Hyundai Eon Era', 'Mahindra XUV500', 'Ford Fiesta', 'Hyundai i20',\n",
       "       'Hyundai Fluidic Verna', 'Fiat Petra ELX', 'Maruti Suzuki Ciaz',\n",
       "       'Maruti Suzuki Zen', 'Hyundai Creta 1.6', 'Mahindra Scorpio SLX',\n",
       "       'Tata Nano Cx', 'Tata Sumo Victa', 'Volkswagen Passat Diesel',\n",
       "       'Renault Scala RxL', 'Hyundai i20 Active', 'Mahindra Xylo E4',\n",
       "       'Mahindra Jeep MM', 'Mahindra Bolero SLE', 'Force Motors Force',\n",
       "       'Toyota Etios', 'Honda City VX', 'Mahindra Thar CRDe',\n",
       "       'Audi A4 1.8', 'Mercedes Benz GLA', 'Land Rover Freelander',\n",
       "       'Renault Kwid RXT', 'Tata Aria Pleasure', 'Mercedes Benz B',\n",
       "       'Datsun GO T', 'Honda Jazz VX', 'Chevrolet Tavera Neo',\n",
       "       'Hyundai Eon Sportz', 'Tata Sumo Gold', 'Chevrolet Enjoy 1.4',\n",
       "       'Nissan Terrano XL', 'Maruti Suzuki Maruti', 'Renault Kwid 1.0',\n",
       "       'Hyundai Accent GLX', 'Mahindra TUV300 T4', 'Honda Accord',\n",
       "       'Mahindra Scorpio 2.6', 'Honda Mobilio', 'Skoda Laura',\n",
       "       'Tata Manza Aura', 'Chevrolet Sail UVA', 'Audi A4 2.0',\n",
       "       'Hyundai Elantra SX', 'Mahindra KUV100 K8', 'Hyundai i10',\n",
       "       'Hyundai Accent', 'Hyundai Verna', 'Toyota Fortuner',\n",
       "       'Mahindra Bolero Power', 'Skoda Rapid Elegance',\n",
       "       'Tata Vista Quadrajet', 'Chevrolet Beat Diesel',\n",
       "       'Hyundai Verna 1.4', 'Maruti Suzuki Versa', 'Tata Indigo LX',\n",
       "       'Volkswagen Vento Konekt', 'Mercedes Benz C', 'Maruti Suzuki Omni',\n",
       "       'Hyundai Sonata Transform', 'Honda Jazz S', 'Mahindra Scorpio W',\n",
       "       'Honda Brio V', 'Mahindra TUV300 T8', 'Nissan X Trail',\n",
       "       'Ford Ikon 1.3', 'Toyota Fortuner 3.0', 'Tata Manza ELAN',\n",
       "       'Mercedes Benz A', 'Tata Indigo LS', 'Hyundai Verna 1.6',\n",
       "       'BMW 5 Series', 'Skoda Superb 1.8', 'Audi Q3 2.0',\n",
       "       'Ford Figo Duratorq', 'Mahindra Logan Diesel', 'Tata Nano GenX',\n",
       "       'Honda City SV', 'Ford Figo Petrol', 'Toyota Corolla H2',\n",
       "       'Hyundai Xcent Base', 'Hyundai Accent Executive', 'Tata Zest XE',\n",
       "       'Mahindra XUV500 W6', 'Tata Tigor Revotron', 'Maruti Suzuki 800',\n",
       "       'Honda Mobilio S', 'Tata Indica', 'Honda Brio VX', 'Tata Nano Lx',\n",
       "       'Jaguar XE XE', 'Hyundai Eon Magna', 'Hyundai Eon D',\n",
       "       'Maruti Suzuki Estilo', 'Mahindra Scorpio Vlx',\n",
       "       'Mitsubishi Lancer 1.8', 'Ford Fiesta SXi', 'Audi A6 2.0',\n",
       "       'Hyundai Getz Prime', 'Hyundai Santro', 'Chevrolet Beat PS',\n",
       "       'BMW X1 xDrive20d', 'Tata Nano', 'Chevrolet Cruze LTZ',\n",
       "       'Mahindra XUV500 W10', 'Hyundai Accent GLE', 'Force Motors One',\n",
       "       'Chevrolet Spark 1.0', 'Renault Duster 85PS', 'Chevrolet Enjoy',\n",
       "       'Jeep Wrangler Unlimited', 'Hyundai Verna VGT',\n",
       "       'Maruti Suzuki Celerio', 'Tata Zest Quadrajet', 'Hyundai i10 Era',\n",
       "       'Tata Indigo Marina', 'Hyundai Xcent SX', 'Tata Nano LX',\n",
       "       'Mahindra Xylo E8', 'Tata Manza Aqua', 'Tata Venture EX',\n",
       "       'Skoda Octavia Classic', 'Ford Ikon 1.6', 'Nissan Sunny XL',\n",
       "       'Volkswagen Polo Trendline', 'Hyundai Elantra 1.8',\n",
       "       'Tata Indica eV2', 'Jaguar XF 2.2', 'Audi Q5 2.0',\n",
       "       'BMW X1 sDrive20d', 'Maruti Suzuki S',\n",
       "       'Volkswagen Vento Comfortline', 'Mahindra KUV100',\n",
       "       'Volkswagen Jetta Comfortline', 'Volvo S80 Summum', 'BMW X1',\n",
       "       'Renault Duster RxL', 'Honda WR V', 'Mahindra Scorpio LX',\n",
       "       'Audi A3 Cabriolet', 'Hyundai Santro AE', 'Mahindra Xylo D2',\n",
       "       'Hyundai Getz GLE', 'Nissan Micra XL', 'Chevrolet Tavera LS',\n",
       "       'Tata Tiago Revotron', 'Tata Tiago Revotorq', 'Ford Fusion 1.4',\n",
       "       'Fiat Linea Emotion', 'Toyota Corolla', 'Tata Sumo Grande',\n",
       "       'Volkswagen Polo Highline1.2L', 'Hyundai Creta', 'Tata Bolt XM',\n",
       "       'Datsun Go Plus', 'Ford Endeavor 4x4', 'Mahindra Logan',\n",
       "       'Chevrolet Sail 1.2', 'Tata Manza', 'Toyota Etios G',\n",
       "       'Toyota Qualis', 'Mahindra Quanto C4', 'Hyundai i20 Select',\n",
       "       'Hyundai Getz', 'Skoda Fabia', 'Tata Zest XM'], dtype=object)"
      ]
     },
     "execution_count": 85,
     "metadata": {},
     "output_type": "execute_result"
    }
   ],
   "source": [
    "data[\"name\"].unique()"
   ]
  },
  {
   "cell_type": "code",
   "execution_count": 89,
   "metadata": {},
   "outputs": [
    {
     "data": {
      "text/html": [
       "<div>\n",
       "<style scoped>\n",
       "    .dataframe tbody tr th:only-of-type {\n",
       "        vertical-align: middle;\n",
       "    }\n",
       "\n",
       "    .dataframe tbody tr th {\n",
       "        vertical-align: top;\n",
       "    }\n",
       "\n",
       "    .dataframe thead th {\n",
       "        text-align: right;\n",
       "    }\n",
       "</style>\n",
       "<table border=\"1\" class=\"dataframe\">\n",
       "  <thead>\n",
       "    <tr style=\"text-align: right;\">\n",
       "      <th></th>\n",
       "      <th>name</th>\n",
       "      <th>company</th>\n",
       "      <th>year</th>\n",
       "      <th>Price</th>\n",
       "      <th>kms_driven</th>\n",
       "      <th>fuel_type</th>\n",
       "    </tr>\n",
       "  </thead>\n",
       "  <tbody>\n",
       "    <tr>\n",
       "      <th>0</th>\n",
       "      <td>Hyundai Santro Xing</td>\n",
       "      <td>Hyundai</td>\n",
       "      <td>2007</td>\n",
       "      <td>80000</td>\n",
       "      <td>45000</td>\n",
       "      <td>Petrol</td>\n",
       "    </tr>\n",
       "    <tr>\n",
       "      <th>1</th>\n",
       "      <td>Mahindra Jeep CL550</td>\n",
       "      <td>Mahindra</td>\n",
       "      <td>2006</td>\n",
       "      <td>425000</td>\n",
       "      <td>40</td>\n",
       "      <td>Diesel</td>\n",
       "    </tr>\n",
       "    <tr>\n",
       "      <th>3</th>\n",
       "      <td>Hyundai Grand i10</td>\n",
       "      <td>Hyundai</td>\n",
       "      <td>2014</td>\n",
       "      <td>325000</td>\n",
       "      <td>28000</td>\n",
       "      <td>Petrol</td>\n",
       "    </tr>\n",
       "    <tr>\n",
       "      <th>4</th>\n",
       "      <td>Ford EcoSport Titanium</td>\n",
       "      <td>Ford</td>\n",
       "      <td>2014</td>\n",
       "      <td>575000</td>\n",
       "      <td>36000</td>\n",
       "      <td>Diesel</td>\n",
       "    </tr>\n",
       "    <tr>\n",
       "      <th>6</th>\n",
       "      <td>Ford Figo</td>\n",
       "      <td>Ford</td>\n",
       "      <td>2012</td>\n",
       "      <td>175000</td>\n",
       "      <td>41000</td>\n",
       "      <td>Diesel</td>\n",
       "    </tr>\n",
       "    <tr>\n",
       "      <th>...</th>\n",
       "      <td>...</td>\n",
       "      <td>...</td>\n",
       "      <td>...</td>\n",
       "      <td>...</td>\n",
       "      <td>...</td>\n",
       "      <td>...</td>\n",
       "    </tr>\n",
       "    <tr>\n",
       "      <th>883</th>\n",
       "      <td>Maruti Suzuki Ritz</td>\n",
       "      <td>Maruti</td>\n",
       "      <td>2011</td>\n",
       "      <td>270000</td>\n",
       "      <td>50000</td>\n",
       "      <td>Petrol</td>\n",
       "    </tr>\n",
       "    <tr>\n",
       "      <th>885</th>\n",
       "      <td>Tata Indica V2</td>\n",
       "      <td>Tata</td>\n",
       "      <td>2009</td>\n",
       "      <td>110000</td>\n",
       "      <td>30000</td>\n",
       "      <td>Diesel</td>\n",
       "    </tr>\n",
       "    <tr>\n",
       "      <th>886</th>\n",
       "      <td>Toyota Corolla Altis</td>\n",
       "      <td>Toyota</td>\n",
       "      <td>2009</td>\n",
       "      <td>300000</td>\n",
       "      <td>132000</td>\n",
       "      <td>Petrol</td>\n",
       "    </tr>\n",
       "    <tr>\n",
       "      <th>888</th>\n",
       "      <td>Tata Zest XM</td>\n",
       "      <td>Tata</td>\n",
       "      <td>2018</td>\n",
       "      <td>260000</td>\n",
       "      <td>27000</td>\n",
       "      <td>Diesel</td>\n",
       "    </tr>\n",
       "    <tr>\n",
       "      <th>889</th>\n",
       "      <td>Mahindra Quanto C8</td>\n",
       "      <td>Mahindra</td>\n",
       "      <td>2013</td>\n",
       "      <td>390000</td>\n",
       "      <td>40000</td>\n",
       "      <td>Diesel</td>\n",
       "    </tr>\n",
       "  </tbody>\n",
       "</table>\n",
       "<p>815 rows × 6 columns</p>\n",
       "</div>"
      ],
      "text/plain": [
       "                       name   company  year   Price  kms_driven fuel_type\n",
       "0       Hyundai Santro Xing   Hyundai  2007   80000       45000    Petrol\n",
       "1       Mahindra Jeep CL550  Mahindra  2006  425000          40    Diesel\n",
       "3         Hyundai Grand i10   Hyundai  2014  325000       28000    Petrol\n",
       "4    Ford EcoSport Titanium      Ford  2014  575000       36000    Diesel\n",
       "6                 Ford Figo      Ford  2012  175000       41000    Diesel\n",
       "..                      ...       ...   ...     ...         ...       ...\n",
       "883      Maruti Suzuki Ritz    Maruti  2011  270000       50000    Petrol\n",
       "885          Tata Indica V2      Tata  2009  110000       30000    Diesel\n",
       "886    Toyota Corolla Altis    Toyota  2009  300000      132000    Petrol\n",
       "888            Tata Zest XM      Tata  2018  260000       27000    Diesel\n",
       "889      Mahindra Quanto C8  Mahindra  2013  390000       40000    Diesel\n",
       "\n",
       "[815 rows x 6 columns]"
      ]
     },
     "execution_count": 89,
     "metadata": {},
     "output_type": "execute_result"
    }
   ],
   "source": [
    "data = data[data[\"Price\"]<6e6]\n",
    "data"
   ]
  },
  {
   "cell_type": "code",
   "execution_count": 91,
   "metadata": {},
   "outputs": [],
   "source": [
    "data.to_csv(\"./clean.csv\",index=False)"
   ]
  }
 ],
 "metadata": {
  "kernelspec": {
   "display_name": "myenv",
   "language": "python",
   "name": "python3"
  },
  "language_info": {
   "codemirror_mode": {
    "name": "ipython",
    "version": 3
   },
   "file_extension": ".py",
   "mimetype": "text/x-python",
   "name": "python",
   "nbconvert_exporter": "python",
   "pygments_lexer": "ipython3",
   "version": "3.10.12"
  }
 },
 "nbformat": 4,
 "nbformat_minor": 2
}
